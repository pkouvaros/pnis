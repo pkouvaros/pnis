{
 "cells": [
  {
   "cell_type": "code",
   "execution_count": 1,
   "metadata": {},
   "outputs": [],
   "source": [
    "from GuardSwarmDilemma import Simulation, TemplateAgent, DQNStrategy"
   ]
  },
  {
   "cell_type": "code",
   "execution_count": 2,
   "metadata": {},
   "outputs": [],
   "source": [
    "sim = Simulation(template_agent=TemplateAgent(strategy=DQNStrategy()))\n",
    "# sim = Simulation()"
   ]
  },
  {
   "cell_type": "code",
   "execution_count": 3,
   "metadata": {},
   "outputs": [
    {
     "name": "stderr",
     "output_type": "stream",
     "text": [
      "Running Episodes:   0%|          | 0/100 [00:00<?, ?it/s]"
     ]
    },
    {
     "name": "stdout",
     "output_type": "stream",
     "text": [
      "1/1 [==============================] - 0s 985us/step - loss: 0.7456\n",
      "1/1 [==============================] - 0s 0s/step - loss: 0.9717\n",
      "1/1 [==============================] - 0s 0s/step - loss: 0.9702\n",
      "1/1 [==============================] - 0s 0s/step - loss: 0.9690\n",
      "1/1 [==============================] - 0s 0s/step - loss: 0.7455\n",
      "1/1 [==============================] - 0s 15ms/step - loss: 0.7549\n",
      "1/1 [==============================] - 0s 0s/step - loss: 0.9673\n",
      "1/1 [==============================] - 0s 1ms/step - loss: 0.7428\n",
      "1/1 [==============================] - 0s 0s/step - loss: 2.2101\n",
      "1/1 [==============================] - 0s 0s/step - loss: 3.9105\n"
     ]
    },
    {
     "name": "stderr",
     "output_type": "stream",
     "text": [
      "Running Episodes:   1%|          | 1/100 [00:02<04:16,  2.59s/it]"
     ]
    },
    {
     "name": "stdout",
     "output_type": "stream",
     "text": [
      "1/1 [==============================] - 0s 0s/step - loss: 0.9668\n",
      "1/1 [==============================] - 0s 0s/step - loss: 2.2402\n",
      "1/1 [==============================] - 0s 0s/step - loss: 0.7549\n",
      "1/1 [==============================] - 0s 0s/step - loss: 2.2122\n",
      "1/1 [==============================] - 0s 0s/step - loss: 3.6984\n",
      "1/1 [==============================] - 0s 0s/step - loss: 3.7157\n"
     ]
    },
    {
     "name": "stderr",
     "output_type": "stream",
     "text": [
      "Running Episodes:   2%|▏         | 2/100 [00:03<02:47,  1.71s/it]"
     ]
    },
    {
     "name": "stdout",
     "output_type": "stream",
     "text": [
      "1/1 [==============================] - 0s 0s/step - loss: 5.2004\n",
      "1/1 [==============================] - 0s 999us/step - loss: 0.7572\n",
      "1/1 [==============================] - 0s 0s/step - loss: 2.6700\n"
     ]
    },
    {
     "name": "stderr",
     "output_type": "stream",
     "text": [
      "Running Episodes:   3%|▎         | 3/100 [00:04<01:55,  1.19s/it]"
     ]
    },
    {
     "name": "stdout",
     "output_type": "stream",
     "text": [
      "1/1 [==============================] - 0s 0s/step - loss: 2.4504\n",
      "1/1 [==============================] - 0s 996us/step - loss: 3.7157\n",
      "1/1 [==============================] - 0s 0s/step - loss: 3.7156\n"
     ]
    },
    {
     "name": "stderr",
     "output_type": "stream",
     "text": [
      "Running Episodes:   4%|▍         | 4/100 [00:04<01:32,  1.04it/s]"
     ]
    },
    {
     "name": "stdout",
     "output_type": "stream",
     "text": [
      "1/1 [==============================] - 0s 0s/step - loss: 2.2307\n",
      "1/1 [==============================] - 0s 998us/step - loss: 2.2231\n",
      "1/1 [==============================] - 0s 1ms/step - loss: 5.2010\n"
     ]
    },
    {
     "name": "stderr",
     "output_type": "stream",
     "text": [
      "Running Episodes:   5%|▌         | 5/100 [00:05<01:16,  1.24it/s]"
     ]
    },
    {
     "name": "stdout",
     "output_type": "stream",
     "text": [
      "1/1 [==============================] - 0s 984us/step - loss: 5.2001\n",
      "1/1 [==============================] - 0s 448us/step - loss: 3.7152\n",
      "1/1 [==============================] - 0s 1000us/step - loss: 5.1812\n"
     ]
    },
    {
     "name": "stderr",
     "output_type": "stream",
     "text": [
      "Running Episodes:   6%|▌         | 6/100 [00:05<01:02,  1.50it/s]"
     ]
    },
    {
     "name": "stdout",
     "output_type": "stream",
     "text": [
      "1/1 [==============================] - 0s 0s/step - loss: 3.7148\n",
      "1/1 [==============================] - 0s 0s/step - loss: 5.1977\n",
      "1/1 [==============================] - 0s 1ms/step - loss: 3.7134\n"
     ]
    },
    {
     "name": "stderr",
     "output_type": "stream",
     "text": [
      "Running Episodes:   7%|▋         | 7/100 [00:06<00:55,  1.68it/s]"
     ]
    },
    {
     "name": "stdout",
     "output_type": "stream",
     "text": [
      "1/1 [==============================] - 0s 0s/step - loss: 5.1965\n",
      "1/1 [==============================] - 0s 2ms/step - loss: 5.1957\n",
      "1/1 [==============================] - 0s 998us/step - loss: 5.1948\n"
     ]
    },
    {
     "name": "stderr",
     "output_type": "stream",
     "text": [
      "Running Episodes:   8%|▊         | 8/100 [00:06<00:47,  1.94it/s]"
     ]
    },
    {
     "name": "stdout",
     "output_type": "stream",
     "text": [
      "1/1 [==============================] - 0s 1ms/step - loss: 5.1940\n",
      "1/1 [==============================] - 0s 0s/step - loss: 5.1931\n",
      "1/1 [==============================] - 0s 0s/step - loss: 5.1923\n"
     ]
    },
    {
     "name": "stderr",
     "output_type": "stream",
     "text": [
      "Running Episodes:   9%|▉         | 9/100 [00:07<00:47,  1.90it/s]"
     ]
    },
    {
     "name": "stdout",
     "output_type": "stream",
     "text": [
      "1/1 [==============================] - 0s 0s/step - loss: 5.1915\n",
      "1/1 [==============================] - 0s 0s/step - loss: 5.1906\n",
      "1/1 [==============================] - 0s 14ms/step - loss: 5.1898\n"
     ]
    },
    {
     "name": "stderr",
     "output_type": "stream",
     "text": [
      "Running Episodes:  10%|█         | 10/100 [00:07<00:45,  1.97it/s]"
     ]
    },
    {
     "name": "stdout",
     "output_type": "stream",
     "text": [
      "1/1 [==============================] - 0s 0s/step - loss: 5.1890\n",
      "1/1 [==============================] - 0s 0s/step - loss: 5.1882\n",
      "1/1 [==============================] - 0s 0s/step - loss: 5.1874\n"
     ]
    },
    {
     "name": "stderr",
     "output_type": "stream",
     "text": [
      "Running Episodes:  11%|█         | 11/100 [00:08<00:42,  2.09it/s]"
     ]
    },
    {
     "name": "stdout",
     "output_type": "stream",
     "text": [
      "1/1 [==============================] - 0s 2ms/step - loss: 5.1866\n",
      "1/1 [==============================] - 0s 2ms/step - loss: 5.1858\n",
      "1/1 [==============================] - 0s 0s/step - loss: 5.1849\n"
     ]
    },
    {
     "name": "stderr",
     "output_type": "stream",
     "text": [
      "Running Episodes:  12%|█▏        | 12/100 [00:08<00:39,  2.22it/s]"
     ]
    },
    {
     "name": "stdout",
     "output_type": "stream",
     "text": [
      "1/1 [==============================] - 0s 0s/step - loss: 5.1841\n",
      "1/1 [==============================] - 0s 3ms/step - loss: 5.1833\n",
      "1/1 [==============================] - 0s 1ms/step - loss: 5.1824\n"
     ]
    },
    {
     "name": "stderr",
     "output_type": "stream",
     "text": [
      "Running Episodes:  13%|█▎        | 13/100 [00:08<00:36,  2.40it/s]"
     ]
    },
    {
     "name": "stdout",
     "output_type": "stream",
     "text": [
      "1/1 [==============================] - 0s 0s/step - loss: 5.1816\n",
      "1/1 [==============================] - 0s 0s/step - loss: 5.1808\n",
      "1/1 [==============================] - 0s 0s/step - loss: 5.1799\n"
     ]
    },
    {
     "name": "stderr",
     "output_type": "stream",
     "text": [
      "Running Episodes:  14%|█▍        | 14/100 [00:09<00:33,  2.56it/s]"
     ]
    },
    {
     "name": "stdout",
     "output_type": "stream",
     "text": [
      "1/1 [==============================] - 0s 0s/step - loss: 5.1791\n",
      "1/1 [==============================] - 0s 3ms/step - loss: 5.1782\n",
      "1/1 [==============================] - 0s 0s/step - loss: 5.1773\n"
     ]
    },
    {
     "name": "stderr",
     "output_type": "stream",
     "text": [
      "Running Episodes:  15%|█▌        | 15/100 [00:09<00:31,  2.69it/s]"
     ]
    },
    {
     "name": "stdout",
     "output_type": "stream",
     "text": [
      "1/1 [==============================] - 0s 0s/step - loss: 5.1765\n",
      "1/1 [==============================] - 0s 0s/step - loss: 5.1756\n",
      "1/1 [==============================] - 0s 0s/step - loss: 5.1747\n"
     ]
    },
    {
     "name": "stderr",
     "output_type": "stream",
     "text": [
      "Running Episodes:  16%|█▌        | 16/100 [00:09<00:30,  2.74it/s]"
     ]
    },
    {
     "name": "stdout",
     "output_type": "stream",
     "text": [
      "1/1 [==============================] - 0s 0s/step - loss: 5.1738\n",
      "1/1 [==============================] - 0s 1ms/step - loss: 5.1729\n",
      "1/1 [==============================] - 0s 0s/step - loss: 5.1720\n"
     ]
    },
    {
     "name": "stderr",
     "output_type": "stream",
     "text": [
      "Running Episodes:  17%|█▋        | 17/100 [00:10<00:30,  2.73it/s]"
     ]
    },
    {
     "name": "stdout",
     "output_type": "stream",
     "text": [
      "1/1 [==============================] - 0s 0s/step - loss: 5.1711\n",
      "1/1 [==============================] - 0s 0s/step - loss: 5.1702\n",
      "1/1 [==============================] - 0s 793us/step - loss: 5.1693\n"
     ]
    },
    {
     "name": "stderr",
     "output_type": "stream",
     "text": [
      "Running Episodes:  18%|█▊        | 18/100 [00:10<00:29,  2.77it/s]"
     ]
    },
    {
     "name": "stdout",
     "output_type": "stream",
     "text": [
      "1/1 [==============================] - 0s 0s/step - loss: 5.1684\n",
      "1/1 [==============================] - 0s 0s/step - loss: 5.1675\n",
      "1/1 [==============================] - 0s 0s/step - loss: 5.1665\n"
     ]
    },
    {
     "name": "stderr",
     "output_type": "stream",
     "text": [
      "Running Episodes:  19%|█▉        | 19/100 [00:10<00:28,  2.83it/s]"
     ]
    },
    {
     "name": "stdout",
     "output_type": "stream",
     "text": [
      "1/1 [==============================] - 0s 0s/step - loss: 5.1656\n",
      "1/1 [==============================] - 0s 1ms/step - loss: 5.1646\n",
      "1/1 [==============================] - 0s 0s/step - loss: 5.1637\n"
     ]
    },
    {
     "name": "stderr",
     "output_type": "stream",
     "text": [
      "Running Episodes:  20%|██        | 20/100 [00:11<00:27,  2.90it/s]"
     ]
    },
    {
     "name": "stdout",
     "output_type": "stream",
     "text": [
      "1/1 [==============================] - 0s 1ms/step - loss: 5.1627\n",
      "1/1 [==============================] - 0s 0s/step - loss: 5.1617\n",
      "1/1 [==============================] - 0s 0s/step - loss: 5.1608\n"
     ]
    },
    {
     "name": "stderr",
     "output_type": "stream",
     "text": [
      "Running Episodes:  21%|██        | 21/100 [00:11<00:28,  2.80it/s]"
     ]
    },
    {
     "name": "stdout",
     "output_type": "stream",
     "text": [
      "1/1 [==============================] - 0s 0s/step - loss: 5.1598\n",
      "1/1 [==============================] - 0s 0s/step - loss: 5.1588\n",
      "1/1 [==============================] - 0s 1ms/step - loss: 5.1578\n"
     ]
    },
    {
     "name": "stderr",
     "output_type": "stream",
     "text": [
      "Running Episodes:  22%|██▏       | 22/100 [00:11<00:27,  2.83it/s]"
     ]
    },
    {
     "name": "stdout",
     "output_type": "stream",
     "text": [
      "1/1 [==============================] - 0s 0s/step - loss: 5.1568\n",
      "1/1 [==============================] - 0s 0s/step - loss: 5.1558\n",
      "1/1 [==============================] - 0s 0s/step - loss: 5.1548\n"
     ]
    },
    {
     "name": "stderr",
     "output_type": "stream",
     "text": [
      "Running Episodes:  23%|██▎       | 23/100 [00:12<00:26,  2.89it/s]"
     ]
    },
    {
     "name": "stdout",
     "output_type": "stream",
     "text": [
      "1/1 [==============================] - 0s 0s/step - loss: 5.1538\n",
      "1/1 [==============================] - 0s 3ms/step - loss: 5.1527\n",
      "1/1 [==============================] - 0s 0s/step - loss: 5.1517\n"
     ]
    },
    {
     "name": "stderr",
     "output_type": "stream",
     "text": [
      "Running Episodes:  24%|██▍       | 24/100 [00:12<00:26,  2.84it/s]"
     ]
    },
    {
     "name": "stdout",
     "output_type": "stream",
     "text": [
      "1/1 [==============================] - 0s 1ms/step - loss: 5.1507\n",
      "1/1 [==============================] - 0s 0s/step - loss: 5.1496\n",
      "1/1 [==============================] - 0s 1ms/step - loss: 5.1486\n"
     ]
    },
    {
     "name": "stderr",
     "output_type": "stream",
     "text": [
      "Running Episodes:  25%|██▌       | 25/100 [00:12<00:26,  2.87it/s]"
     ]
    },
    {
     "name": "stdout",
     "output_type": "stream",
     "text": [
      "1/1 [==============================] - 0s 1ms/step - loss: 5.1475\n",
      "1/1 [==============================] - 0s 0s/step - loss: 5.1465\n",
      "1/1 [==============================] - 0s 1ms/step - loss: 5.1454\n"
     ]
    },
    {
     "name": "stderr",
     "output_type": "stream",
     "text": [
      "Running Episodes:  26%|██▌       | 26/100 [00:13<00:28,  2.57it/s]"
     ]
    },
    {
     "name": "stdout",
     "output_type": "stream",
     "text": [
      "1/1 [==============================] - 0s 12ms/step - loss: 5.1443\n",
      "1/1 [==============================] - 0s 0s/step - loss: 5.1432\n",
      "1/1 [==============================] - 0s 998us/step - loss: 5.1422\n"
     ]
    },
    {
     "name": "stderr",
     "output_type": "stream",
     "text": [
      "Running Episodes:  27%|██▋       | 27/100 [00:13<00:27,  2.67it/s]"
     ]
    },
    {
     "name": "stdout",
     "output_type": "stream",
     "text": [
      "1/1 [==============================] - 0s 0s/step - loss: 5.1411\n",
      "1/1 [==============================] - 0s 2ms/step - loss: 5.1400\n",
      "1/1 [==============================] - 0s 0s/step - loss: 5.1389\n"
     ]
    },
    {
     "name": "stderr",
     "output_type": "stream",
     "text": [
      "Running Episodes:  28%|██▊       | 28/100 [00:14<00:25,  2.78it/s]"
     ]
    },
    {
     "name": "stdout",
     "output_type": "stream",
     "text": [
      "1/1 [==============================] - 0s 0s/step - loss: 5.1377\n",
      "1/1 [==============================] - 0s 999us/step - loss: 5.1366\n",
      "1/1 [==============================] - 0s 0s/step - loss: 5.1355\n"
     ]
    },
    {
     "name": "stderr",
     "output_type": "stream",
     "text": [
      "Running Episodes:  29%|██▉       | 29/100 [00:14<00:25,  2.78it/s]"
     ]
    },
    {
     "name": "stdout",
     "output_type": "stream",
     "text": [
      "1/1 [==============================] - 0s 0s/step - loss: 5.1344\n",
      "1/1 [==============================] - 0s 1ms/step - loss: 5.1332\n",
      "1/1 [==============================] - 0s 0s/step - loss: 5.1321\n"
     ]
    },
    {
     "name": "stderr",
     "output_type": "stream",
     "text": [
      "Running Episodes:  30%|███       | 30/100 [00:14<00:24,  2.84it/s]"
     ]
    },
    {
     "name": "stdout",
     "output_type": "stream",
     "text": [
      "1/1 [==============================] - 0s 16ms/step - loss: 5.1310\n",
      "1/1 [==============================] - 0s 0s/step - loss: 5.1298\n",
      "1/1 [==============================] - 0s 0s/step - loss: 5.1287\n"
     ]
    },
    {
     "name": "stderr",
     "output_type": "stream",
     "text": [
      "Running Episodes:  31%|███       | 31/100 [00:15<00:24,  2.79it/s]"
     ]
    },
    {
     "name": "stdout",
     "output_type": "stream",
     "text": [
      "1/1 [==============================] - 0s 0s/step - loss: 5.1275\n",
      "1/1 [==============================] - 0s 0s/step - loss: 5.1263\n",
      "1/1 [==============================] - 0s 0s/step - loss: 5.1252\n"
     ]
    },
    {
     "name": "stderr",
     "output_type": "stream",
     "text": [
      "Running Episodes:  32%|███▏      | 32/100 [00:15<00:24,  2.75it/s]"
     ]
    },
    {
     "name": "stdout",
     "output_type": "stream",
     "text": [
      "1/1 [==============================] - 0s 0s/step - loss: 5.1240\n",
      "1/1 [==============================] - 0s 0s/step - loss: 5.1228\n",
      "1/1 [==============================] - 0s 0s/step - loss: 5.1216\n"
     ]
    },
    {
     "name": "stderr",
     "output_type": "stream",
     "text": [
      "Running Episodes:  33%|███▎      | 33/100 [00:15<00:24,  2.75it/s]"
     ]
    },
    {
     "name": "stdout",
     "output_type": "stream",
     "text": [
      "1/1 [==============================] - 0s 0s/step - loss: 5.1204\n",
      "1/1 [==============================] - 0s 1ms/step - loss: 5.1192\n",
      "1/1 [==============================] - 0s 0s/step - loss: 5.1180\n"
     ]
    },
    {
     "name": "stderr",
     "output_type": "stream",
     "text": [
      "Running Episodes:  34%|███▍      | 34/100 [00:16<00:23,  2.84it/s]"
     ]
    },
    {
     "name": "stdout",
     "output_type": "stream",
     "text": [
      "1/1 [==============================] - 0s 0s/step - loss: 5.1168\n",
      "1/1 [==============================] - 0s 3ms/step - loss: 5.1156\n",
      "1/1 [==============================] - 0s 0s/step - loss: 5.1144\n"
     ]
    },
    {
     "name": "stderr",
     "output_type": "stream",
     "text": [
      "Running Episodes:  35%|███▌      | 35/100 [00:16<00:24,  2.66it/s]"
     ]
    },
    {
     "name": "stdout",
     "output_type": "stream",
     "text": [
      "1/1 [==============================] - 0s 14ms/step - loss: 5.1132\n",
      "1/1 [==============================] - 0s 0s/step - loss: 5.1120\n",
      "1/1 [==============================] - 0s 0s/step - loss: 5.1107\n"
     ]
    },
    {
     "name": "stderr",
     "output_type": "stream",
     "text": [
      "Running Episodes:  36%|███▌      | 36/100 [00:16<00:24,  2.61it/s]"
     ]
    },
    {
     "name": "stdout",
     "output_type": "stream",
     "text": [
      "1/1 [==============================] - 0s 1ms/step - loss: 5.1095\n",
      "1/1 [==============================] - 0s 999us/step - loss: 5.1083\n",
      "1/1 [==============================] - 0s 1ms/step - loss: 5.1070\n"
     ]
    },
    {
     "name": "stderr",
     "output_type": "stream",
     "text": [
      "Running Episodes:  37%|███▋      | 37/100 [00:17<00:25,  2.45it/s]"
     ]
    },
    {
     "name": "stdout",
     "output_type": "stream",
     "text": [
      "1/1 [==============================] - 0s 0s/step - loss: 5.1058\n",
      "1/1 [==============================] - 0s 0s/step - loss: 5.1045\n",
      "1/1 [==============================] - 0s 0s/step - loss: 5.1033\n"
     ]
    },
    {
     "name": "stderr",
     "output_type": "stream",
     "text": [
      "Running Episodes:  38%|███▊      | 38/100 [00:17<00:23,  2.59it/s]"
     ]
    },
    {
     "name": "stdout",
     "output_type": "stream",
     "text": [
      "1/1 [==============================] - 0s 0s/step - loss: 5.1020\n",
      "1/1 [==============================] - 0s 997us/step - loss: 5.1008\n",
      "1/1 [==============================] - 0s 0s/step - loss: 5.0995\n"
     ]
    },
    {
     "name": "stderr",
     "output_type": "stream",
     "text": [
      "Running Episodes:  39%|███▉      | 39/100 [00:18<00:22,  2.71it/s]"
     ]
    },
    {
     "name": "stdout",
     "output_type": "stream",
     "text": [
      "1/1 [==============================] - 0s 0s/step - loss: 5.0982\n",
      "1/1 [==============================] - 0s 998us/step - loss: 5.0970\n",
      "1/1 [==============================] - 0s 0s/step - loss: 5.0957\n"
     ]
    },
    {
     "name": "stderr",
     "output_type": "stream",
     "text": [
      "Running Episodes:  40%|████      | 40/100 [00:18<00:21,  2.75it/s]"
     ]
    },
    {
     "name": "stdout",
     "output_type": "stream",
     "text": [
      "1/1 [==============================] - 0s 0s/step - loss: 5.0944\n",
      "1/1 [==============================] - 0s 1ms/step - loss: 5.0931\n",
      "1/1 [==============================] - 0s 0s/step - loss: 5.0919\n"
     ]
    },
    {
     "name": "stderr",
     "output_type": "stream",
     "text": [
      "Running Episodes:  41%|████      | 41/100 [00:18<00:20,  2.86it/s]"
     ]
    },
    {
     "name": "stdout",
     "output_type": "stream",
     "text": [
      "1/1 [==============================] - 0s 0s/step - loss: 5.0906\n",
      "1/1 [==============================] - 0s 0s/step - loss: 5.0893\n",
      "1/1 [==============================] - 0s 1ms/step - loss: 5.0880\n"
     ]
    },
    {
     "name": "stderr",
     "output_type": "stream",
     "text": [
      "Running Episodes:  42%|████▏     | 42/100 [00:19<00:22,  2.60it/s]"
     ]
    },
    {
     "name": "stdout",
     "output_type": "stream",
     "text": [
      "1/1 [==============================] - 0s 0s/step - loss: 5.0867\n",
      "1/1 [==============================] - 0s 1ms/step - loss: 5.0854\n",
      "1/1 [==============================] - 0s 0s/step - loss: 5.0841\n"
     ]
    },
    {
     "name": "stderr",
     "output_type": "stream",
     "text": [
      "Running Episodes:  43%|████▎     | 43/100 [00:19<00:21,  2.71it/s]"
     ]
    },
    {
     "name": "stdout",
     "output_type": "stream",
     "text": [
      "1/1 [==============================] - 0s 0s/step - loss: 5.0828\n",
      "1/1 [==============================] - 0s 0s/step - loss: 5.0815\n",
      "1/1 [==============================] - 0s 0s/step - loss: 5.0802\n"
     ]
    },
    {
     "name": "stderr",
     "output_type": "stream",
     "text": [
      "Running Episodes:  44%|████▍     | 44/100 [00:19<00:21,  2.64it/s]"
     ]
    },
    {
     "name": "stdout",
     "output_type": "stream",
     "text": [
      "1/1 [==============================] - 0s 0s/step - loss: 5.0789\n",
      "1/1 [==============================] - 0s 2ms/step - loss: 5.0776\n",
      "1/1 [==============================] - 0s 0s/step - loss: 5.0762\n"
     ]
    },
    {
     "name": "stderr",
     "output_type": "stream",
     "text": [
      "Running Episodes:  45%|████▌     | 45/100 [00:20<00:19,  2.77it/s]"
     ]
    },
    {
     "name": "stdout",
     "output_type": "stream",
     "text": [
      "1/1 [==============================] - 0s 0s/step - loss: 5.0749\n",
      "1/1 [==============================] - 0s 0s/step - loss: 5.0736\n",
      "1/1 [==============================] - 0s 0s/step - loss: 5.0723\n"
     ]
    },
    {
     "name": "stderr",
     "output_type": "stream",
     "text": [
      "Running Episodes:  46%|████▌     | 46/100 [00:20<00:19,  2.84it/s]"
     ]
    },
    {
     "name": "stdout",
     "output_type": "stream",
     "text": [
      "1/1 [==============================] - 0s 0s/step - loss: 5.0710\n",
      "1/1 [==============================] - 0s 0s/step - loss: 5.0696\n",
      "1/1 [==============================] - 0s 0s/step - loss: 5.0683\n"
     ]
    },
    {
     "name": "stderr",
     "output_type": "stream",
     "text": [
      "Running Episodes:  47%|████▋     | 47/100 [00:20<00:18,  2.89it/s]"
     ]
    },
    {
     "name": "stdout",
     "output_type": "stream",
     "text": [
      "1/1 [==============================] - 0s 0s/step - loss: 5.0670\n",
      "1/1 [==============================] - 0s 2ms/step - loss: 5.0656\n",
      "1/1 [==============================] - 0s 0s/step - loss: 5.0643\n"
     ]
    },
    {
     "name": "stderr",
     "output_type": "stream",
     "text": [
      "Running Episodes:  48%|████▊     | 48/100 [00:21<00:18,  2.88it/s]"
     ]
    },
    {
     "name": "stdout",
     "output_type": "stream",
     "text": [
      "1/1 [==============================] - 0s 0s/step - loss: 5.0630\n",
      "1/1 [==============================] - 0s 0s/step - loss: 5.0616\n",
      "1/1 [==============================] - 0s 0s/step - loss: 5.0603\n"
     ]
    },
    {
     "name": "stderr",
     "output_type": "stream",
     "text": [
      "Running Episodes:  49%|████▉     | 49/100 [00:21<00:17,  2.87it/s]"
     ]
    },
    {
     "name": "stdout",
     "output_type": "stream",
     "text": [
      "1/1 [==============================] - 0s 0s/step - loss: 5.0590\n",
      "1/1 [==============================] - 0s 0s/step - loss: 5.0576\n",
      "1/1 [==============================] - 0s 998us/step - loss: 5.0563\n"
     ]
    },
    {
     "name": "stderr",
     "output_type": "stream",
     "text": [
      "Running Episodes:  50%|█████     | 50/100 [00:22<00:17,  2.90it/s]"
     ]
    },
    {
     "name": "stdout",
     "output_type": "stream",
     "text": [
      "1/1 [==============================] - 0s 0s/step - loss: 5.0550\n",
      "1/1 [==============================] - 0s 0s/step - loss: 5.0536\n",
      "1/1 [==============================] - 0s 1ms/step - loss: 5.0523\n"
     ]
    },
    {
     "name": "stderr",
     "output_type": "stream",
     "text": [
      "Running Episodes:  51%|█████     | 51/100 [00:22<00:17,  2.77it/s]"
     ]
    },
    {
     "name": "stdout",
     "output_type": "stream",
     "text": [
      "1/1 [==============================] - 0s 0s/step - loss: 5.0509\n",
      "1/1 [==============================] - 0s 0s/step - loss: 5.0496\n",
      "1/1 [==============================] - 0s 0s/step - loss: 5.0483\n"
     ]
    },
    {
     "name": "stderr",
     "output_type": "stream",
     "text": [
      "Running Episodes:  52%|█████▏    | 52/100 [00:22<00:16,  2.84it/s]"
     ]
    },
    {
     "name": "stdout",
     "output_type": "stream",
     "text": [
      "1/1 [==============================] - 0s 2ms/step - loss: 5.0469\n",
      "1/1 [==============================] - 0s 1ms/step - loss: 5.0456\n",
      "1/1 [==============================] - 0s 0s/step - loss: 5.0442\n"
     ]
    },
    {
     "name": "stderr",
     "output_type": "stream",
     "text": [
      "Running Episodes:  53%|█████▎    | 53/100 [00:23<00:16,  2.89it/s]"
     ]
    },
    {
     "name": "stdout",
     "output_type": "stream",
     "text": [
      "1/1 [==============================] - 0s 0s/step - loss: 5.0429\n",
      "1/1 [==============================] - 0s 9ms/step - loss: 5.0415\n",
      "1/1 [==============================] - 0s 0s/step - loss: 5.0402\n"
     ]
    },
    {
     "name": "stderr",
     "output_type": "stream",
     "text": [
      "Running Episodes:  54%|█████▍    | 54/100 [00:23<00:16,  2.86it/s]"
     ]
    },
    {
     "name": "stdout",
     "output_type": "stream",
     "text": [
      "1/1 [==============================] - 0s 0s/step - loss: 5.0389\n",
      "1/1 [==============================] - 0s 986us/step - loss: 5.0375\n",
      "1/1 [==============================] - 0s 0s/step - loss: 5.0362\n"
     ]
    },
    {
     "name": "stderr",
     "output_type": "stream",
     "text": [
      "Running Episodes:  55%|█████▌    | 55/100 [00:23<00:15,  2.92it/s]"
     ]
    },
    {
     "name": "stdout",
     "output_type": "stream",
     "text": [
      "1/1 [==============================] - 0s 0s/step - loss: 5.0348\n",
      "1/1 [==============================] - 0s 0s/step - loss: 5.0335\n",
      "1/1 [==============================] - 0s 0s/step - loss: 5.0322\n"
     ]
    },
    {
     "name": "stderr",
     "output_type": "stream",
     "text": [
      "Running Episodes:  56%|█████▌    | 56/100 [00:24<00:14,  2.94it/s]"
     ]
    },
    {
     "name": "stdout",
     "output_type": "stream",
     "text": [
      "1/1 [==============================] - 0s 0s/step - loss: 5.0308\n",
      "1/1 [==============================] - 0s 2ms/step - loss: 5.0295\n",
      "1/1 [==============================] - 0s 0s/step - loss: 5.0282\n"
     ]
    },
    {
     "name": "stderr",
     "output_type": "stream",
     "text": [
      "Running Episodes:  57%|█████▋    | 57/100 [00:24<00:14,  2.91it/s]"
     ]
    },
    {
     "name": "stdout",
     "output_type": "stream",
     "text": [
      "1/1 [==============================] - 0s 0s/step - loss: 5.0268\n",
      "1/1 [==============================] - 0s 2ms/step - loss: 5.0255\n",
      "1/1 [==============================] - 0s 0s/step - loss: 5.0242\n"
     ]
    },
    {
     "name": "stderr",
     "output_type": "stream",
     "text": [
      "Running Episodes:  58%|█████▊    | 58/100 [00:24<00:16,  2.53it/s]"
     ]
    },
    {
     "name": "stdout",
     "output_type": "stream",
     "text": [
      "1/1 [==============================] - 0s 0s/step - loss: 5.0228\n",
      "1/1 [==============================] - 0s 0s/step - loss: 5.0215\n",
      "1/1 [==============================] - 0s 0s/step - loss: 5.0202\n"
     ]
    },
    {
     "name": "stderr",
     "output_type": "stream",
     "text": [
      "Running Episodes:  59%|█████▉    | 59/100 [00:25<00:15,  2.66it/s]"
     ]
    },
    {
     "name": "stdout",
     "output_type": "stream",
     "text": [
      "1/1 [==============================] - 0s 0s/step - loss: 5.0188\n",
      "1/1 [==============================] - 0s 0s/step - loss: 5.0175\n",
      "1/1 [==============================] - 0s 0s/step - loss: 5.0162\n"
     ]
    },
    {
     "name": "stderr",
     "output_type": "stream",
     "text": [
      "Running Episodes:  60%|██████    | 60/100 [00:25<00:14,  2.71it/s]"
     ]
    },
    {
     "name": "stdout",
     "output_type": "stream",
     "text": [
      "1/1 [==============================] - 0s 0s/step - loss: 5.0149\n",
      "1/1 [==============================] - 0s 0s/step - loss: 5.0135\n",
      "1/1 [==============================] - 0s 0s/step - loss: 5.0122\n"
     ]
    },
    {
     "name": "stderr",
     "output_type": "stream",
     "text": [
      "Running Episodes:  61%|██████    | 61/100 [00:25<00:13,  2.79it/s]"
     ]
    },
    {
     "name": "stdout",
     "output_type": "stream",
     "text": [
      "1/1 [==============================] - 0s 0s/step - loss: 5.0109\n",
      "1/1 [==============================] - 0s 2ms/step - loss: 5.0096\n",
      "1/1 [==============================] - 0s 0s/step - loss: 5.0083\n"
     ]
    },
    {
     "name": "stderr",
     "output_type": "stream",
     "text": [
      "Running Episodes:  62%|██████▏   | 62/100 [00:26<00:13,  2.87it/s]"
     ]
    },
    {
     "name": "stdout",
     "output_type": "stream",
     "text": [
      "1/1 [==============================] - 0s 0s/step - loss: 5.0070\n",
      "1/1 [==============================] - 0s 2ms/step - loss: 5.0056\n",
      "1/1 [==============================] - 0s 0s/step - loss: 5.0043\n"
     ]
    },
    {
     "name": "stderr",
     "output_type": "stream",
     "text": [
      "Running Episodes:  63%|██████▎   | 63/100 [00:26<00:13,  2.83it/s]"
     ]
    },
    {
     "name": "stdout",
     "output_type": "stream",
     "text": [
      "1/1 [==============================] - 0s 1ms/step - loss: 5.0030\n",
      "1/1 [==============================] - 0s 998us/step - loss: 5.0017\n",
      "1/1 [==============================] - 0s 0s/step - loss: 5.0004\n"
     ]
    },
    {
     "name": "stderr",
     "output_type": "stream",
     "text": [
      "Running Episodes:  64%|██████▍   | 64/100 [00:27<00:13,  2.74it/s]"
     ]
    },
    {
     "name": "stdout",
     "output_type": "stream",
     "text": [
      "1/1 [==============================] - 0s 5ms/step - loss: 4.9991\n",
      "1/1 [==============================] - 0s 3ms/step - loss: 4.9978\n",
      "1/1 [==============================] - 0s 914us/step - loss: 2.4877\n",
      "1/1 [==============================] - 0s 0s/step - loss: 4.9970\n",
      "1/1 [==============================] - 0s 0s/step - loss: 4.9956\n",
      "1/1 [==============================] - 0s 0s/step - loss: 4.9943\n",
      "1/1 [==============================] - 0s 0s/step - loss: 3.5813\n",
      "1/1 [==============================] - 0s 510us/step - loss: 3.6180\n",
      "1/1 [==============================] - 0s 0s/step - loss: 2.1727\n",
      "1/1 [==============================] - 0s 0s/step - loss: 4.9922\n",
      "1/1 [==============================] - 0s 0s/step - loss: 3.9077\n",
      "1/1 [==============================] - 0s 0s/step - loss: 3.6013\n",
      "1/1 [==============================] - 0s 14ms/step - loss: 2.8170\n",
      "1/1 [==============================] - 0s 0s/step - loss: 3.6130\n",
      "1/1 [==============================] - 0s 0s/step - loss: 0.8031\n",
      "1/1 [==============================] - 0s 1ms/step - loss: 0.7678\n",
      "1/1 [==============================] - 0s 0s/step - loss: 2.6067\n",
      "1/1 [==============================] - 0s 0s/step - loss: 1.2313\n",
      "1/1 [==============================] - 0s 17ms/step - loss: 2.5109\n",
      "1/1 [==============================] - 0s 0s/step - loss: 1.0787\n",
      "1/1 [==============================] - 0s 0s/step - loss: 1.7105\n",
      "1/1 [==============================] - 0s 0s/step - loss: 1.0953\n",
      "1/1 [==============================] - 0s 0s/step - loss: 1.0780\n",
      "1/1 [==============================] - 0s 0s/step - loss: 1.0916\n",
      "1/1 [==============================] - 0s 1ms/step - loss: 1.1914\n",
      "1/1 [==============================] - 0s 2ms/step - loss: 0.8187\n",
      "1/1 [==============================] - 0s 0s/step - loss: 0.7792\n",
      "1/1 [==============================] - 0s 0s/step - loss: 1.1837\n",
      "1/1 [==============================] - 0s 0s/step - loss: 1.0862\n",
      "1/1 [==============================] - 0s 0s/step - loss: 1.1046\n",
      "1/1 [==============================] - 0s 0s/step - loss: 0.7800\n",
      "1/1 [==============================] - 0s 1ms/step - loss: 1.0888\n"
     ]
    },
    {
     "name": "stderr",
     "output_type": "stream",
     "text": [
      "Running Episodes:  65%|██████▌   | 65/100 [00:33<01:20,  2.30s/it]"
     ]
    },
    {
     "name": "stdout",
     "output_type": "stream",
     "text": [
      "1/1 [==============================] - 0s 0s/step - loss: 1.0963\n",
      "1/1 [==============================] - 0s 0s/step - loss: 2.1828\n",
      "1/1 [==============================] - 0s 0s/step - loss: 0.7605\n"
     ]
    },
    {
     "name": "stderr",
     "output_type": "stream",
     "text": [
      "Running Episodes:  66%|██████▌   | 66/100 [00:34<01:01,  1.82s/it]"
     ]
    },
    {
     "name": "stdout",
     "output_type": "stream",
     "text": [
      "1/1 [==============================] - 0s 0s/step - loss: 1.0936\n",
      "1/1 [==============================] - 0s 323us/step - loss: 2.1672\n",
      "1/1 [==============================] - 0s 0s/step - loss: 2.1934\n"
     ]
    },
    {
     "name": "stderr",
     "output_type": "stream",
     "text": [
      "Running Episodes:  67%|██████▋   | 67/100 [00:35<00:48,  1.47s/it]"
     ]
    },
    {
     "name": "stdout",
     "output_type": "stream",
     "text": [
      "1/1 [==============================] - 0s 0s/step - loss: 3.6014\n",
      "1/1 [==============================] - 0s 0s/step - loss: 3.6049\n",
      "1/1 [==============================] - 0s 0s/step - loss: 2.1822\n"
     ]
    },
    {
     "name": "stderr",
     "output_type": "stream",
     "text": [
      "Running Episodes:  68%|██████▊   | 68/100 [00:35<00:37,  1.18s/it]"
     ]
    },
    {
     "name": "stdout",
     "output_type": "stream",
     "text": [
      "1/1 [==============================] - 0s 0s/step - loss: 2.2081\n",
      "1/1 [==============================] - 0s 2ms/step - loss: 5.0164\n",
      "1/1 [==============================] - 0s 1ms/step - loss: 3.6001\n"
     ]
    },
    {
     "name": "stderr",
     "output_type": "stream",
     "text": [
      "Running Episodes:  69%|██████▉   | 69/100 [00:36<00:29,  1.03it/s]"
     ]
    },
    {
     "name": "stdout",
     "output_type": "stream",
     "text": [
      "1/1 [==============================] - 0s 0s/step - loss: 3.6183\n",
      "1/1 [==============================] - 0s 0s/step - loss: 3.6033\n",
      "1/1 [==============================] - 0s 0s/step - loss: 3.5918\n"
     ]
    },
    {
     "name": "stderr",
     "output_type": "stream",
     "text": [
      "Running Episodes:  70%|███████   | 70/100 [00:36<00:24,  1.23it/s]"
     ]
    },
    {
     "name": "stdout",
     "output_type": "stream",
     "text": [
      "1/1 [==============================] - 0s 0s/step - loss: 2.1758\n",
      "1/1 [==============================] - 0s 0s/step - loss: 5.0116\n",
      "1/1 [==============================] - 0s 0s/step - loss: 5.0095\n"
     ]
    },
    {
     "name": "stderr",
     "output_type": "stream",
     "text": [
      "Running Episodes:  71%|███████   | 71/100 [00:37<00:20,  1.44it/s]"
     ]
    },
    {
     "name": "stdout",
     "output_type": "stream",
     "text": [
      "1/1 [==============================] - 0s 0s/step - loss: 5.0076\n",
      "1/1 [==============================] - 0s 0s/step - loss: 5.0058\n",
      "1/1 [==============================] - 0s 0s/step - loss: 5.0040\n"
     ]
    },
    {
     "name": "stderr",
     "output_type": "stream",
     "text": [
      "Running Episodes:  72%|███████▏  | 72/100 [00:37<00:17,  1.58it/s]"
     ]
    },
    {
     "name": "stdout",
     "output_type": "stream",
     "text": [
      "1/1 [==============================] - 0s 0s/step - loss: 5.0023\n",
      "1/1 [==============================] - 0s 0s/step - loss: 5.0007\n",
      "1/1 [==============================] - 0s 2ms/step - loss: 4.9992\n"
     ]
    },
    {
     "name": "stderr",
     "output_type": "stream",
     "text": [
      "Running Episodes:  73%|███████▎  | 73/100 [00:37<00:14,  1.84it/s]"
     ]
    },
    {
     "name": "stdout",
     "output_type": "stream",
     "text": [
      "1/1 [==============================] - 0s 0s/step - loss: 4.9976\n",
      "1/1 [==============================] - 0s 0s/step - loss: 3.5825\n",
      "1/1 [==============================] - 0s 0s/step - loss: 4.9956\n",
      "1/1 [==============================] - 0s 0s/step - loss: 4.9941\n",
      "1/1 [==============================] - 0s 0s/step - loss: 4.9926\n",
      "1/1 [==============================] - 0s 0s/step - loss: 3.9083\n",
      "1/1 [==============================] - 0s 998us/step - loss: 2.5096\n",
      "1/1 [==============================] - 0s 0s/step - loss: 1.0822\n",
      "1/1 [==============================] - 0s 0s/step - loss: 4.0145\n",
      "1/1 [==============================] - 0s 2ms/step - loss: 3.5892\n",
      "1/1 [==============================] - 0s 0s/step - loss: 2.4993\n",
      "1/1 [==============================] - 0s 0s/step - loss: 1.4172\n",
      "1/1 [==============================] - 0s 0s/step - loss: 2.4898\n",
      "1/1 [==============================] - 0s 0s/step - loss: 2.4985\n",
      "1/1 [==============================] - 0s 0s/step - loss: 1.0981\n",
      "1/1 [==============================] - 0s 0s/step - loss: 2.9212\n",
      "1/1 [==============================] - 0s 2ms/step - loss: 2.4885\n",
      "1/1 [==============================] - 0s 0s/step - loss: 2.6030\n",
      "1/1 [==============================] - 0s 0s/step - loss: 0.7617\n",
      "1/1 [==============================] - 0s 1ms/step - loss: 0.7533\n",
      "1/1 [==============================] - 0s 0s/step - loss: 0.7514\n",
      "1/1 [==============================] - 0s 19ms/step - loss: 0.7733\n",
      "1/1 [==============================] - 0s 0s/step - loss: 0.7843\n"
     ]
    },
    {
     "name": "stderr",
     "output_type": "stream",
     "text": [
      "Running Episodes:  74%|███████▍  | 74/100 [00:41<00:40,  1.56s/it]"
     ]
    },
    {
     "name": "stdout",
     "output_type": "stream",
     "text": [
      "1/1 [==============================] - 0s 0s/step - loss: 0.7515\n",
      "1/1 [==============================] - 0s 0s/step - loss: 2.1712\n",
      "1/1 [==============================] - 0s 0s/step - loss: 2.1640\n"
     ]
    },
    {
     "name": "stderr",
     "output_type": "stream",
     "text": [
      "Running Episodes:  75%|███████▌  | 75/100 [00:42<00:31,  1.27s/it]"
     ]
    },
    {
     "name": "stdout",
     "output_type": "stream",
     "text": [
      "1/1 [==============================] - 0s 0s/step - loss: 2.1675\n",
      "1/1 [==============================] - 0s 1ms/step - loss: 3.5878\n",
      "1/1 [==============================] - 0s 0s/step - loss: 2.1746\n"
     ]
    },
    {
     "name": "stderr",
     "output_type": "stream",
     "text": [
      "Running Episodes:  76%|███████▌  | 76/100 [00:43<00:26,  1.10s/it]"
     ]
    },
    {
     "name": "stdout",
     "output_type": "stream",
     "text": [
      "1/1 [==============================] - 0s 0s/step - loss: 2.1673\n",
      "1/1 [==============================] - 0s 995us/step - loss: 3.5880\n",
      "1/1 [==============================] - 0s 0s/step - loss: 3.5880\n"
     ]
    },
    {
     "name": "stderr",
     "output_type": "stream",
     "text": [
      "Running Episodes:  77%|███████▋  | 77/100 [00:43<00:21,  1.07it/s]"
     ]
    },
    {
     "name": "stdout",
     "output_type": "stream",
     "text": [
      "1/1 [==============================] - 0s 0s/step - loss: 3.5877\n",
      "1/1 [==============================] - 0s 1ms/step - loss: 3.5874\n",
      "1/1 [==============================] - 0s 0s/step - loss: 3.5872\n"
     ]
    },
    {
     "name": "stderr",
     "output_type": "stream",
     "text": [
      "Running Episodes:  78%|███████▊  | 78/100 [00:44<00:17,  1.27it/s]"
     ]
    },
    {
     "name": "stdout",
     "output_type": "stream",
     "text": [
      "1/1 [==============================] - 0s 0s/step - loss: 2.1688\n",
      "1/1 [==============================] - 0s 6ms/step - loss: 5.0059\n",
      "1/1 [==============================] - 0s 863us/step - loss: 5.0036\n"
     ]
    },
    {
     "name": "stderr",
     "output_type": "stream",
     "text": [
      "Running Episodes:  79%|███████▉  | 79/100 [00:44<00:14,  1.49it/s]"
     ]
    },
    {
     "name": "stdout",
     "output_type": "stream",
     "text": [
      "1/1 [==============================] - 0s 0s/step - loss: 3.5849\n",
      "1/1 [==============================] - 0s 2ms/step - loss: 5.0008\n",
      "1/1 [==============================] - 0s 0s/step - loss: 4.9988\n"
     ]
    },
    {
     "name": "stderr",
     "output_type": "stream",
     "text": [
      "Running Episodes:  80%|████████  | 80/100 [00:44<00:11,  1.71it/s]"
     ]
    },
    {
     "name": "stdout",
     "output_type": "stream",
     "text": [
      "1/1 [==============================] - 0s 0s/step - loss: 4.9970\n",
      "1/1 [==============================] - 0s 3ms/step - loss: 3.5819\n",
      "1/1 [==============================] - 0s 0s/step - loss: 4.9946\n",
      "1/1 [==============================] - 0s 2ms/step - loss: 3.5811\n",
      "1/1 [==============================] - 0s 0s/step - loss: 3.9010\n",
      "1/1 [==============================] - 0s 0s/step - loss: 1.1000\n",
      "1/1 [==============================] - 0s 0s/step - loss: 4.9933\n",
      "1/1 [==============================] - 0s 0s/step - loss: 0.7831\n",
      "1/1 [==============================] - 0s 0s/step - loss: 3.5830\n",
      "1/1 [==============================] - 0s 0s/step - loss: 3.5828\n",
      "1/1 [==============================] - 0s 0s/step - loss: 0.7635\n",
      "1/1 [==============================] - 0s 0s/step - loss: 2.1915\n",
      "1/1 [==============================] - 0s 0s/step - loss: 4.9941\n",
      "1/1 [==============================] - 0s 0s/step - loss: 2.4900\n",
      "1/1 [==============================] - 0s 2ms/step - loss: 1.0987\n",
      "1/1 [==============================] - 0s 0s/step - loss: 2.4891\n",
      "1/1 [==============================] - 0s 0s/step - loss: 3.5827\n",
      "1/1 [==============================] - 0s 0s/step - loss: 0.7583\n",
      "1/1 [==============================] - 0s 0s/step - loss: 1.0838\n",
      "1/1 [==============================] - 0s 16ms/step - loss: 1.0736\n",
      "1/1 [==============================] - 0s 0s/step - loss: 0.7549\n",
      "1/1 [==============================] - 0s 0s/step - loss: 0.7667\n",
      "1/1 [==============================] - 0s 0s/step - loss: 0.7451\n",
      "1/1 [==============================] - 0s 16ms/step - loss: 0.7842\n",
      "1/1 [==============================] - 0s 0s/step - loss: 1.0638\n",
      "1/1 [==============================] - 0s 0s/step - loss: 0.7474\n",
      "1/1 [==============================] - 0s 0s/step - loss: 1.5100\n"
     ]
    },
    {
     "name": "stderr",
     "output_type": "stream",
     "text": [
      "Running Episodes:  81%|████████  | 81/100 [00:49<00:36,  1.90s/it]"
     ]
    },
    {
     "name": "stdout",
     "output_type": "stream",
     "text": [
      "1/1 [==============================] - 0s 1ms/step - loss: 1.0660\n",
      "1/1 [==============================] - 0s 989us/step - loss: 0.7669\n",
      "1/1 [==============================] - 0s 1ms/step - loss: 0.7585\n"
     ]
    },
    {
     "name": "stderr",
     "output_type": "stream",
     "text": [
      "Running Episodes:  82%|████████▏ | 82/100 [00:50<00:27,  1.53s/it]"
     ]
    },
    {
     "name": "stdout",
     "output_type": "stream",
     "text": [
      "1/1 [==============================] - 0s 0s/step - loss: 2.1769\n",
      "1/1 [==============================] - 0s 994us/step - loss: 2.4972\n",
      "1/1 [==============================] - 0s 0s/step - loss: 2.4972\n"
     ]
    },
    {
     "name": "stderr",
     "output_type": "stream",
     "text": [
      "Running Episodes:  83%|████████▎ | 83/100 [00:51<00:21,  1.25s/it]"
     ]
    },
    {
     "name": "stdout",
     "output_type": "stream",
     "text": [
      "1/1 [==============================] - 0s 0s/step - loss: 2.1691\n",
      "1/1 [==============================] - 0s 1ms/step - loss: 3.5925\n",
      "1/1 [==============================] - 0s 0s/step - loss: 4.0274\n"
     ]
    },
    {
     "name": "stderr",
     "output_type": "stream",
     "text": [
      "Running Episodes:  84%|████████▍ | 84/100 [00:51<00:16,  1.01s/it]"
     ]
    },
    {
     "name": "stdout",
     "output_type": "stream",
     "text": [
      "1/1 [==============================] - 0s 0s/step - loss: 5.0143\n",
      "1/1 [==============================] - 0s 3ms/step - loss: 3.6031\n",
      "1/1 [==============================] - 0s 0s/step - loss: 5.0117\n"
     ]
    },
    {
     "name": "stderr",
     "output_type": "stream",
     "text": [
      "Running Episodes:  85%|████████▌ | 85/100 [00:51<00:12,  1.21it/s]"
     ]
    },
    {
     "name": "stdout",
     "output_type": "stream",
     "text": [
      "1/1 [==============================] - 0s 0s/step - loss: 5.0099\n",
      "1/1 [==============================] - 0s 0s/step - loss: 3.5880\n",
      "1/1 [==============================] - 0s 17ms/step - loss: 5.0076\n"
     ]
    },
    {
     "name": "stderr",
     "output_type": "stream",
     "text": [
      "Running Episodes:  86%|████████▌ | 86/100 [00:52<00:09,  1.45it/s]"
     ]
    },
    {
     "name": "stdout",
     "output_type": "stream",
     "text": [
      "1/1 [==============================] - 0s 0s/step - loss: 3.5872\n",
      "1/1 [==============================] - 0s 985us/step - loss: 3.5939\n",
      "1/1 [==============================] - 0s 0s/step - loss: 5.0047\n"
     ]
    },
    {
     "name": "stderr",
     "output_type": "stream",
     "text": [
      "Running Episodes:  87%|████████▋ | 87/100 [00:52<00:08,  1.61it/s]"
     ]
    },
    {
     "name": "stdout",
     "output_type": "stream",
     "text": [
      "1/1 [==============================] - 0s 0s/step - loss: 5.0029\n",
      "1/1 [==============================] - 0s 0s/step - loss: 5.0013\n",
      "1/1 [==============================] - 0s 1ms/step - loss: 4.9996\n"
     ]
    },
    {
     "name": "stderr",
     "output_type": "stream",
     "text": [
      "Running Episodes:  88%|████████▊ | 88/100 [00:53<00:06,  1.86it/s]"
     ]
    },
    {
     "name": "stdout",
     "output_type": "stream",
     "text": [
      "1/1 [==============================] - 0s 953us/step - loss: 4.9981\n",
      "1/1 [==============================] - 0s 0s/step - loss: 4.9966\n",
      "1/1 [==============================] - 0s 1ms/step - loss: 4.9951\n",
      "1/1 [==============================] - 0s 0s/step - loss: 4.9936\n",
      "1/1 [==============================] - 0s 0s/step - loss: 4.9922\n",
      "1/1 [==============================] - 0s 0s/step - loss: 3.5810\n",
      "1/1 [==============================] - 0s 0s/step - loss: 4.9903\n",
      "1/1 [==============================] - 0s 0s/step - loss: 3.5825\n",
      "1/1 [==============================] - 0s 0s/step - loss: 3.5823\n",
      "1/1 [==============================] - 0s 0s/step - loss: 3.5821\n",
      "1/1 [==============================] - 0s 0s/step - loss: 0.7713\n",
      "1/1 [==============================] - 0s 0s/step - loss: 2.1761\n",
      "1/1 [==============================] - 0s 0s/step - loss: 4.9894\n",
      "1/1 [==============================] - 0s 858us/step - loss: 2.1761\n",
      "1/1 [==============================] - 0s 0s/step - loss: 3.5821\n",
      "1/1 [==============================] - 0s 0s/step - loss: 1.0860\n",
      "1/1 [==============================] - 0s 0s/step - loss: 2.4913\n",
      "1/1 [==============================] - 0s 0s/step - loss: 0.7674\n",
      "1/1 [==============================] - 0s 3ms/step - loss: 0.7907\n",
      "1/1 [==============================] - 0s 0s/step - loss: 0.7706\n",
      "1/1 [==============================] - 0s 0s/step - loss: 0.7691\n",
      "1/1 [==============================] - 0s 0s/step - loss: 0.7611\n",
      "1/1 [==============================] - 0s 0s/step - loss: 1.0725\n",
      "1/1 [==============================] - 0s 0s/step - loss: 0.7504\n",
      "1/1 [==============================] - 0s 0s/step - loss: 1.0893\n",
      "1/1 [==============================] - 0s 0s/step - loss: 0.7674\n",
      "1/1 [==============================] - 0s 0s/step - loss: 0.7730\n",
      "1/1 [==============================] - 0s 1ms/step - loss: 1.0862\n",
      "1/1 [==============================] - 0s 0s/step - loss: 0.7634\n",
      "1/1 [==============================] - 0s 1ms/step - loss: 0.7517\n",
      "1/1 [==============================] - 0s 0s/step - loss: 0.7433\n",
      "1/1 [==============================] - 0s 0s/step - loss: 1.0633\n",
      "1/1 [==============================] - 0s 0s/step - loss: 0.7545\n"
     ]
    },
    {
     "name": "stderr",
     "output_type": "stream",
     "text": [
      "Running Episodes:  89%|████████▉ | 89/100 [00:59<00:24,  2.19s/it]"
     ]
    },
    {
     "name": "stdout",
     "output_type": "stream",
     "text": [
      "1/1 [==============================] - 0s 1ms/step - loss: 2.1684\n",
      "1/1 [==============================] - 0s 0s/step - loss: 0.7591\n",
      "1/1 [==============================] - 0s 0s/step - loss: 2.1678\n"
     ]
    },
    {
     "name": "stderr",
     "output_type": "stream",
     "text": [
      "Running Episodes:  90%|█████████ | 90/100 [00:59<00:17,  1.76s/it]"
     ]
    },
    {
     "name": "stdout",
     "output_type": "stream",
     "text": [
      "1/1 [==============================] - 0s 2ms/step - loss: 2.1676\n",
      "1/1 [==============================] - 0s 0s/step - loss: 0.7546\n",
      "1/1 [==============================] - 0s 0s/step - loss: 3.6012\n"
     ]
    },
    {
     "name": "stderr",
     "output_type": "stream",
     "text": [
      "Running Episodes:  91%|█████████ | 91/100 [01:00<00:12,  1.40s/it]"
     ]
    },
    {
     "name": "stdout",
     "output_type": "stream",
     "text": [
      "1/1 [==============================] - 0s 0s/step - loss: 5.0172\n",
      "1/1 [==============================] - 0s 509us/step - loss: 3.5930\n",
      "1/1 [==============================] - 0s 0s/step - loss: 5.0150\n"
     ]
    },
    {
     "name": "stderr",
     "output_type": "stream",
     "text": [
      "Running Episodes:  92%|█████████▏| 92/100 [01:00<00:08,  1.10s/it]"
     ]
    },
    {
     "name": "stdout",
     "output_type": "stream",
     "text": [
      "1/1 [==============================] - 0s 0s/step - loss: 5.0133\n",
      "1/1 [==============================] - 0s 1ms/step - loss: 3.5908\n",
      "1/1 [==============================] - 0s 0s/step - loss: 3.5977\n"
     ]
    },
    {
     "name": "stderr",
     "output_type": "stream",
     "text": [
      "Running Episodes:  93%|█████████▎| 93/100 [01:01<00:06,  1.12it/s]"
     ]
    },
    {
     "name": "stdout",
     "output_type": "stream",
     "text": [
      "1/1 [==============================] - 0s 0s/step - loss: 5.0106\n",
      "1/1 [==============================] - 0s 997us/step - loss: 3.5899\n",
      "1/1 [==============================] - 0s 0s/step - loss: 5.0083\n"
     ]
    },
    {
     "name": "stderr",
     "output_type": "stream",
     "text": [
      "Running Episodes:  94%|█████████▍| 94/100 [01:01<00:04,  1.35it/s]"
     ]
    },
    {
     "name": "stdout",
     "output_type": "stream",
     "text": [
      "1/1 [==============================] - 0s 0s/step - loss: 3.5875\n",
      "1/1 [==============================] - 0s 854us/step - loss: 5.0061\n",
      "1/1 [==============================] - 0s 0s/step - loss: 5.0044\n"
     ]
    },
    {
     "name": "stderr",
     "output_type": "stream",
     "text": [
      "Running Episodes:  95%|█████████▌| 95/100 [01:02<00:03,  1.59it/s]"
     ]
    },
    {
     "name": "stdout",
     "output_type": "stream",
     "text": [
      "1/1 [==============================] - 0s 0s/step - loss: 5.0028\n",
      "1/1 [==============================] - 0s 0s/step - loss: 5.0012\n",
      "1/1 [==============================] - 0s 0s/step - loss: 4.9997\n"
     ]
    },
    {
     "name": "stderr",
     "output_type": "stream",
     "text": [
      "Running Episodes:  96%|█████████▌| 96/100 [01:02<00:02,  1.80it/s]"
     ]
    },
    {
     "name": "stdout",
     "output_type": "stream",
     "text": [
      "1/1 [==============================] - 0s 0s/step - loss: 3.9041\n",
      "1/1 [==============================] - 0s 6ms/step - loss: 4.9977\n",
      "1/1 [==============================] - 0s 0s/step - loss: 3.9035\n",
      "1/1 [==============================] - 0s 0s/step - loss: 4.9957\n",
      "1/1 [==============================] - 0s 0s/step - loss: 4.9941\n",
      "1/1 [==============================] - 0s 0s/step - loss: 3.9089\n",
      "1/1 [==============================] - 0s 999us/step - loss: 2.5244\n",
      "1/1 [==============================] - 0s 0s/step - loss: 3.5813\n",
      "1/1 [==============================] - 0s 0s/step - loss: 3.8996\n",
      "1/1 [==============================] - 0s 0s/step - loss: 3.9078\n",
      "1/1 [==============================] - 0s 0s/step - loss: 2.4909\n",
      "1/1 [==============================] - 0s 0s/step - loss: 2.4991\n",
      "1/1 [==============================] - 0s 0s/step - loss: 3.6158\n",
      "1/1 [==============================] - 0s 0s/step - loss: 4.9902\n",
      "1/1 [==============================] - 0s 2ms/step - loss: 0.7872\n",
      "1/1 [==============================] - 0s 0s/step - loss: 2.1810\n",
      "1/1 [==============================] - 0s 0s/step - loss: 0.7914\n",
      "1/1 [==============================] - 0s 0s/step - loss: 0.8355\n",
      "1/1 [==============================] - 0s 0s/step - loss: 0.7611\n",
      "1/1 [==============================] - 0s 0s/step - loss: 0.7847\n",
      "1/1 [==============================] - 0s 0s/step - loss: 1.4217\n",
      "1/1 [==============================] - 0s 16ms/step - loss: 1.1096\n",
      "1/1 [==============================] - 0s 0s/step - loss: 0.7683\n",
      "1/1 [==============================] - 0s 1ms/step - loss: 1.0695\n",
      "1/1 [==============================] - 0s 0s/step - loss: 0.7459\n",
      "1/1 [==============================] - 0s 2ms/step - loss: 1.1037\n",
      "1/1 [==============================] - 0s 0s/step - loss: 1.3953\n",
      "1/1 [==============================] - 0s 0s/step - loss: 1.0788\n",
      "1/1 [==============================] - 0s 0s/step - loss: 1.0761\n",
      "1/1 [==============================] - 0s 16ms/step - loss: 0.7754\n",
      "1/1 [==============================] - 0s 0s/step - loss: 1.0876\n",
      "1/1 [==============================] - 0s 0s/step - loss: 0.7504\n",
      "1/1 [==============================] - 0s 0s/step - loss: 0.7419\n",
      "1/1 [==============================] - 0s 0s/step - loss: 0.8062\n",
      "1/1 [==============================] - 0s 0s/step - loss: 1.0672\n",
      "1/1 [==============================] - 0s 0s/step - loss: 1.0657\n",
      "1/1 [==============================] - 0s 0s/step - loss: 0.7507\n",
      "1/1 [==============================] - 0s 0s/step - loss: 0.7419\n",
      "1/1 [==============================] - 0s 0s/step - loss: 2.2107\n"
     ]
    },
    {
     "name": "stderr",
     "output_type": "stream",
     "text": [
      "Running Episodes:  97%|█████████▋| 97/100 [01:09<00:07,  2.64s/it]"
     ]
    },
    {
     "name": "stdout",
     "output_type": "stream",
     "text": [
      "1/1 [==============================] - 0s 2ms/step - loss: 0.7472\n",
      "1/1 [==============================] - 0s 998us/step - loss: 3.6291\n",
      "1/1 [==============================] - 0s 0s/step - loss: 2.1794\n"
     ]
    },
    {
     "name": "stderr",
     "output_type": "stream",
     "text": [
      "Running Episodes:  98%|█████████▊| 98/100 [01:10<00:04,  2.01s/it]"
     ]
    },
    {
     "name": "stdout",
     "output_type": "stream",
     "text": [
      "1/1 [==============================] - 0s 17ms/step - loss: 3.5974\n",
      "1/1 [==============================] - 0s 986us/step - loss: 3.5974\n",
      "1/1 [==============================] - 0s 1ms/step - loss: 2.1800\n"
     ]
    },
    {
     "name": "stderr",
     "output_type": "stream",
     "text": [
      "Running Episodes:  99%|█████████▉| 99/100 [01:11<00:01,  1.56s/it]"
     ]
    },
    {
     "name": "stdout",
     "output_type": "stream",
     "text": [
      "1/1 [==============================] - 0s 0s/step - loss: 2.1945\n",
      "1/1 [==============================] - 0s 1ms/step - loss: 3.5975\n",
      "1/1 [==============================] - 0s 0s/step - loss: 5.0220\n"
     ]
    },
    {
     "name": "stderr",
     "output_type": "stream",
     "text": [
      "Running Episodes: 100%|██████████| 100/100 [01:11<00:00,  1.40it/s]\n"
     ]
    }
   ],
   "source": [
    "sim.train(500)"
   ]
  },
  {
   "cell_type": "code",
   "execution_count": 4,
   "metadata": {},
   "outputs": [
    {
     "data": {
      "text/plain": [
       "<AxesSubplot:>"
      ]
     },
     "execution_count": 4,
     "metadata": {},
     "output_type": "execute_result"
    },
    {
     "data": {
      "image/png": "[encoded data removed]",
      "text/plain": [
       "<Figure size 432x288 with 1 Axes>"
      ]
     },
     "metadata": {
      "needs_background": "light"
     },
     "output_type": "display_data"
    }
   ],
   "source": [
    "sim.scores.plot()"
   ]
  },
  {
   "cell_type": "code",
   "execution_count": null,
   "metadata": {},
   "outputs": [],
   "source": [
    "sim.agents[2].strategy"
   ]
  },
  {
   "cell_type": "code",
   "execution_count": null,
   "metadata": {},
   "outputs": [],
   "source": []
  }
 ],
 "metadata": {
  "kernelspec": {
   "display_name": "game_proj",
   "language": "python",
   "name": "python3"
  },
  "language_info": {
   "codemirror_mode": {
    "name": "ipython",
    "version": 3
   },
   "file_extension": ".py",
   "mimetype": "text/x-python",
   "name": "python",
   "nbconvert_exporter": "python",
   "pygments_lexer": "ipython3",
   "version": "3.7.16"
  }
 },
 "nbformat": 4,
 "nbformat_minor": 2
}
